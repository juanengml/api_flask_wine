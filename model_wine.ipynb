{
 "cells": [
  {
   "cell_type": "code",
   "execution_count": 65,
   "metadata": {},
   "outputs": [],
   "source": [
    "import numpy as np\n",
    "import pandas as pd"
   ]
  },
  {
   "cell_type": "code",
   "execution_count": 66,
   "metadata": {},
   "outputs": [],
   "source": [
    "from sklearn import tree\n",
    "from sklearn.datasets import load_wine\n",
    "from sklearn.metrics import accuracy_score"
   ]
  },
  {
   "cell_type": "code",
   "execution_count": 67,
   "metadata": {},
   "outputs": [],
   "source": [
    "# dataset\n",
    "vinho = load_wine()"
   ]
  },
  {
   "cell_type": "code",
   "execution_count": 68,
   "metadata": {},
   "outputs": [],
   "source": [
    "df = pd.DataFrame(data=np.c_[vinho['data'], vinho['target']],\n",
    "                 columns=vinho['feature_names'] + ['target'])"
   ]
  },
  {
   "cell_type": "code",
   "execution_count": 69,
   "metadata": {},
   "outputs": [],
   "source": [
    "X_train = data[:-20]\n",
    "X_test = data[-20:]\n",
    "\n",
    "y_train = X_train.target\n",
    "y_test = X_test.target\n",
    "\n",
    "X_train = X_train.drop('target',1)\n",
    "X_test = X_test.drop('target',1)"
   ]
  },
  {
   "cell_type": "code",
   "execution_count": 70,
   "metadata": {},
   "outputs": [],
   "source": [
    "classificador = tree.DecisionTreeClassifier()\n",
    "classificador = classificador.fit(X_train, y_train)"
   ]
  },
  {
   "cell_type": "code",
   "execution_count": 71,
   "metadata": {},
   "outputs": [
    {
     "name": "stdout",
     "output_type": "stream",
     "text": [
      "accuracy_score: 0.85\n"
     ]
    }
   ],
   "source": [
    "y_predicit = classificador.predict(X_test)\n",
    "print(\"accuracy_score: %.2f\" % accuracy_score(y_test,y_predicit))"
   ]
  },
  {
   "cell_type": "code",
   "execution_count": 72,
   "metadata": {},
   "outputs": [],
   "source": [
    "import pickle"
   ]
  },
  {
   "cell_type": "code",
   "execution_count": 73,
   "metadata": {},
   "outputs": [],
   "source": [
    "pickle.dump(clf,open(\"modelo_vinho.pickle\",'wb'))"
   ]
  },
  {
   "cell_type": "code",
   "execution_count": 74,
   "metadata": {},
   "outputs": [
    {
     "name": "stdout",
     "output_type": "stream",
     "text": [
      " api.py   modelo_vinho.pickle   model_wine.ipynb\r\n",
      " env\t  model.pickle\t       'TESTANDO API.ipynb'\r\n"
     ]
    }
   ],
   "source": [
    "!ls"
   ]
  },
  {
   "cell_type": "code",
   "execution_count": 75,
   "metadata": {},
   "outputs": [
    {
     "name": "stdout",
     "output_type": "stream",
     "text": [
      " * Serving Flask app \"api\" (lazy loading)\n",
      " * Environment: production\n",
      "\u001b[31m   WARNING: Do not use the development server in a production environment.\u001b[0m\n",
      "\u001b[2m   Use a production WSGI server instead.\u001b[0m\n",
      " * Debug mode: on\n",
      " * Running on http://0.0.0.0:5000/ (Press CTRL+C to quit)\n",
      " * Restarting with stat\n",
      " * Debugger is active!\n",
      " * Debugger PIN: 271-911-403\n",
      "127.0.0.1 - - [08/Dec/2019 16:39:06] \"\u001b[37mPOST /api/ HTTP/1.1\u001b[0m\" 200 -\n",
      "127.0.0.1 - - [08/Dec/2019 16:39:06] \"\u001b[37mPOST /api/ HTTP/1.1\u001b[0m\" 200 -\n",
      "127.0.0.1 - - [08/Dec/2019 16:39:06] \"\u001b[37mPOST /api/ HTTP/1.1\u001b[0m\" 200 -\n",
      "127.0.0.1 - - [08/Dec/2019 16:39:06] \"\u001b[37mPOST /api/ HTTP/1.1\u001b[0m\" 200 -\n",
      "127.0.0.1 - - [08/Dec/2019 16:39:06] \"\u001b[37mPOST /api/ HTTP/1.1\u001b[0m\" 200 -\n",
      "127.0.0.1 - - [08/Dec/2019 16:39:06] \"\u001b[37mPOST /api/ HTTP/1.1\u001b[0m\" 200 -\n",
      "127.0.0.1 - - [08/Dec/2019 16:39:06] \"\u001b[37mPOST /api/ HTTP/1.1\u001b[0m\" 200 -\n",
      "127.0.0.1 - - [08/Dec/2019 16:39:06] \"\u001b[37mPOST /api/ HTTP/1.1\u001b[0m\" 200 -\n",
      "127.0.0.1 - - [08/Dec/2019 16:39:06] \"\u001b[37mPOST /api/ HTTP/1.1\u001b[0m\" 200 -\n",
      "127.0.0.1 - - [08/Dec/2019 16:39:06] \"\u001b[37mPOST /api/ HTTP/1.1\u001b[0m\" 200 -\n",
      "127.0.0.1 - - [08/Dec/2019 16:39:06] \"\u001b[37mPOST /api/ HTTP/1.1\u001b[0m\" 200 -\n",
      "127.0.0.1 - - [08/Dec/2019 16:39:06] \"\u001b[37mPOST /api/ HTTP/1.1\u001b[0m\" 200 -\n",
      "127.0.0.1 - - [08/Dec/2019 16:39:06] \"\u001b[37mPOST /api/ HTTP/1.1\u001b[0m\" 200 -\n",
      "^C\n"
     ]
    }
   ],
   "source": [
    "!python api.py "
   ]
  },
  {
   "cell_type": "code",
   "execution_count": null,
   "metadata": {},
   "outputs": [],
   "source": []
  },
  {
   "cell_type": "code",
   "execution_count": null,
   "metadata": {},
   "outputs": [],
   "source": []
  }
 ],
 "metadata": {
  "kernelspec": {
   "display_name": "Python 2",
   "language": "python",
   "name": "python2"
  },
  "language_info": {
   "codemirror_mode": {
    "name": "ipython",
    "version": 2
   },
   "file_extension": ".py",
   "mimetype": "text/x-python",
   "name": "python",
   "nbconvert_exporter": "python",
   "pygments_lexer": "ipython2",
   "version": "2.7.15+"
  }
 },
 "nbformat": 4,
 "nbformat_minor": 2
}
